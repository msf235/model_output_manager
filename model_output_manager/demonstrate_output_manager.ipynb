{
 "cells": [
  {
   "cell_type": "markdown",
   "metadata": {},
   "source": [
    "## Introduction"
   ]
  },
  {
   "cell_type": "markdown",
   "metadata": {},
   "source": [
    "This script demonstrates my own personal simulation output manager, which I call Model Output Manager or MOM for short."
   ]
  },
  {
   "cell_type": "code",
   "execution_count": 14,
   "metadata": {},
   "outputs": [],
   "source": [
    "import shutil\n",
    "import os\n",
    "from pathlib import Path\n",
    "import numpy as np\n",
    "import pandas as pd\n",
    "import pickle as pkl\n",
    "\n",
    "import model_output_manager as mom\n",
    "\n",
    "\n",
    "eig = np.linalg.eig"
   ]
  },
  {
   "cell_type": "markdown",
   "metadata": {},
   "source": [
    "## Saving model output"
   ]
  },
  {
   "cell_type": "code",
   "execution_count": 15,
   "metadata": {},
   "outputs": [],
   "source": [
    "# %% Parameters for model\n",
    "seed = 10\n",
    "scale = 5\n",
    "name = \"Testing\"\n",
    "param_matrix = scale * np.eye(3)\n",
    "# Store in a dict\n",
    "table_params = dict(run_name=name, seed=seed, scale=scale)  # Parameters for keeping in a table\n",
    "params = table_params.copy()\n",
    "params['param_matrix'] = param_matrix  # Extra model parameters that can't be stored in a table\n",
    "\n",
    "# %% Using these parameters we create model output\n",
    "def run_model(seed, scale):\n",
    "    np.random.seed(seed)\n",
    "    d = scale * np.random.randn(1000, 1000)\n",
    "    lams, ev = eig(d)\n",
    "    lams = np.sort(lams)[::-1]\n",
    "    output = {\"lam1\": np.real(lams[0])}\n",
    "    return output\n",
    "output = run_model(seed, scale)"
   ]
  },
  {
   "cell_type": "code",
   "execution_count": 16,
   "metadata": {},
   "outputs": [],
   "source": [
    "# Now we want to save the model output and the parameters used to generate it in an organized way.\n",
    "# That's where model_output_manager.save_model comes in.\n",
    "shutil.rmtree(\"test_output\", ignore_errors=True)  # Clear away any output that was there before\n",
    "path = Path(\"test_output\")  # Path to the table. Note that the table's name is going to be \"run_log.csv\"\n",
    "# run_exists = mom.run_exists(table_params, path)\n",
    "# if not run_exists:\n",
    "run_id = mom.get_run_entry(table_params, path)\n",
    "run_dir = Path(f\"test_output/run_{run_id}/\")\n",
    "run_dir.mkdir(exist_ok=True)\n"
   ]
  },
  {
   "cell_type": "code",
   "execution_count": 17,
   "metadata": {},
   "outputs": [
    {
     "name": "stdout",
     "output_type": "stream",
     "text": [
      "      run_name  seed  scale\n",
      "index                      \n",
      "0      Testing    10      5\n"
     ]
    }
   ],
   "source": [
    "# Here we see that a table has been created with a row that corresponds to table_params \n",
    "table_path = path/'run_table.csv'\n",
    "table = pd.read_csv(table_path, index_col=0)\n",
    "print(table)"
   ]
  },
  {
   "cell_type": "code",
   "execution_count": 18,
   "metadata": {},
   "outputs": [
    {
     "name": "stdout",
     "output_type": "stream",
     "text": [
      "['run_table.csv', 'run_0']\n",
      "[]\n"
     ]
    }
   ],
   "source": [
    "# A corresponding folder has also been created, called 'run_0':\n",
    "print(os.listdir('test_output'))\n",
    "# But this folder is currently empty:\n",
    "print(os.listdir('test_output/run_0'))"
   ]
  },
  {
   "cell_type": "code",
   "execution_count": 19,
   "metadata": {},
   "outputs": [
    {
     "name": "stdout",
     "output_type": "stream",
     "text": [
      "['out.pkl']\n"
     ]
    }
   ],
   "source": [
    "# We can now use run_dir to save our output:\n",
    "with open(run_dir/'out.pkl', 'wb') as fid:\n",
    "    pkl.dump(output, fid)\n",
    "print(os.listdir(run_dir))"
   ]
  },
  {
   "cell_type": "code",
   "execution_count": 20,
   "metadata": {},
   "outputs": [
    {
     "name": "stdout",
     "output_type": "stream",
     "text": [
      "  run_name  seed  scale\n",
      "0  Testing    10      5\n",
      "1  Testing     5      5\n"
     ]
    }
   ],
   "source": [
    "## Now we create a new run with different parameters. A new row will be added to the table\n",
    "seed = 5\n",
    "scale = 5\n",
    "name = \"Testing\"\n",
    "param_matrix = scale * np.eye(3)\n",
    "table_params = dict(run_name=name, seed=seed, scale=scale)\n",
    "params = table_params.copy()\n",
    "params['param_matrix'] = param_matrix\n",
    "output = run_model(seed, scale)\n",
    "# run_exists = mom.run_exists(table_params, path)\n",
    "run_id = mom.get_run_entry(table_params, path)\n",
    "run_dir = Path(f\"test_output/run_{run_id}/\")\n",
    "run_dir.mkdir(exist_ok=True)\n",
    "with open(run_dir/'out.pkl', 'wb') as fid:\n",
    "    pkl.dump(output, fid)\n",
    "print(pd.read_csv(table_path, index_col=0))"
   ]
  },
  {
   "cell_type": "code",
   "execution_count": 21,
   "metadata": {},
   "outputs": [
    {
     "name": "stdout",
     "output_type": "stream",
     "text": [
      "  run_name  seed  scale\n",
      "0  Testing    10      5\n",
      "1  Testing     5      5\n"
     ]
    }
   ],
   "source": [
    "# Now let's see what happens when we add another parameter to our model. Default behavior is to prompt the user to\n",
    "# pick a variable to assign to the new parameter for previous runs.\n",
    "scale = 5\n",
    "name = \"Testing\"\n",
    "dummy = 8  # New parameter\n",
    "param_matrix = scale * np.eye(3)\n",
    "#run_id = mom.get_run_entry(table_params, path)\n",
    "run_dir = Path(f\"test_output/run_{run_id}/\")\n",
    "run_dir.mkdir(exist_ok=True)\n",
    "with open(run_dir/'out.pkl', 'wb') as fid:\n",
    "    pkl.dump(output, fid)\n",
    "print(pd.read_csv(table_path, index_col=0))\n",
    "# In the input prompt, choose any value. Default is 'na' if no value is chosen."
   ]
  },
  {
   "cell_type": "code",
   "execution_count": 22,
   "metadata": {},
   "outputs": [
    {
     "name": "stdout",
     "output_type": "stream",
     "text": [
      "The following keys are in the run table but not in param_dict.\n",
      "Please specify these keys in param_dict:\n",
      "{'seed'}\n"
     ]
    },
    {
     "ename": "ValueError",
     "evalue": "Missing parameter keys.",
     "output_type": "error",
     "traceback": [
      "\u001b[0;31m---------------------------------------------------------------------------\u001b[0m",
      "\u001b[0;31mValueError\u001b[0m                                Traceback (most recent call last)",
      "\u001b[0;32m/var/folders/hv/36b1mbb91yq5lh63r62wgnwm0000gn/T/ipykernel_41172/2519201159.py\u001b[0m in \u001b[0;36m<module>\u001b[0;34m\u001b[0m\n\u001b[1;32m      8\u001b[0m \u001b[0mparams\u001b[0m\u001b[0;34m[\u001b[0m\u001b[0;34m'param_matrix'\u001b[0m\u001b[0;34m]\u001b[0m \u001b[0;34m=\u001b[0m \u001b[0mparam_matrix\u001b[0m\u001b[0;34m\u001b[0m\u001b[0;34m\u001b[0m\u001b[0m\n\u001b[1;32m      9\u001b[0m \u001b[0moutput\u001b[0m \u001b[0;34m=\u001b[0m \u001b[0mrun_model\u001b[0m\u001b[0;34m(\u001b[0m\u001b[0mseed\u001b[0m\u001b[0;34m=\u001b[0m\u001b[0;36m0\u001b[0m\u001b[0;34m,\u001b[0m \u001b[0mscale\u001b[0m\u001b[0;34m=\u001b[0m\u001b[0mscale\u001b[0m\u001b[0;34m)\u001b[0m\u001b[0;34m\u001b[0m\u001b[0;34m\u001b[0m\u001b[0m\n\u001b[0;32m---> 10\u001b[0;31m \u001b[0mrun_id\u001b[0m \u001b[0;34m=\u001b[0m \u001b[0mmom\u001b[0m\u001b[0;34m.\u001b[0m\u001b[0mget_run_entry\u001b[0m\u001b[0;34m(\u001b[0m\u001b[0mtable_params\u001b[0m\u001b[0;34m,\u001b[0m \u001b[0mpath\u001b[0m\u001b[0;34m)\u001b[0m\u001b[0;34m\u001b[0m\u001b[0;34m\u001b[0m\u001b[0m\n\u001b[0m\u001b[1;32m     11\u001b[0m \u001b[0mrun_dir\u001b[0m \u001b[0;34m=\u001b[0m \u001b[0mPath\u001b[0m\u001b[0;34m(\u001b[0m\u001b[0;34mf\"test_output/run_{run_id}/\"\u001b[0m\u001b[0;34m)\u001b[0m\u001b[0;34m\u001b[0m\u001b[0;34m\u001b[0m\u001b[0m\n\u001b[1;32m     12\u001b[0m \u001b[0mrun_dir\u001b[0m\u001b[0;34m.\u001b[0m\u001b[0mmkdir\u001b[0m\u001b[0;34m(\u001b[0m\u001b[0mexist_ok\u001b[0m\u001b[0;34m=\u001b[0m\u001b[0;32mTrue\u001b[0m\u001b[0;34m)\u001b[0m\u001b[0;34m\u001b[0m\u001b[0;34m\u001b[0m\u001b[0m\n",
      "\u001b[0;32m~/projects/model_output_manager/model_output_manager/model_output_manager.py\u001b[0m in \u001b[0;36mget_run_entry\u001b[0;34m(param_dict, output_dir, prompt_for_user_input)\u001b[0m\n\u001b[1;32m     91\u001b[0m Please specify these keys in param_dict:\"\"\")\n\u001b[1;32m     92\u001b[0m         \u001b[0mprint\u001b[0m\u001b[0;34m(\u001b[0m\u001b[0mmissing_keys\u001b[0m\u001b[0;34m)\u001b[0m\u001b[0;34m\u001b[0m\u001b[0;34m\u001b[0m\u001b[0m\n\u001b[0;32m---> 93\u001b[0;31m         \u001b[0;32mraise\u001b[0m \u001b[0mValueError\u001b[0m\u001b[0;34m(\u001b[0m\u001b[0;34m\"Missing parameter keys.\"\u001b[0m\u001b[0;34m)\u001b[0m\u001b[0;34m\u001b[0m\u001b[0;34m\u001b[0m\u001b[0m\n\u001b[0m\u001b[1;32m     94\u001b[0m \u001b[0;34m\u001b[0m\u001b[0m\n\u001b[1;32m     95\u001b[0m     \u001b[0mextra_keys\u001b[0m \u001b[0;34m=\u001b[0m \u001b[0mset\u001b[0m\u001b[0;34m(\u001b[0m\u001b[0mparam_dict\u001b[0m\u001b[0;34m.\u001b[0m\u001b[0mkeys\u001b[0m\u001b[0;34m(\u001b[0m\u001b[0;34m)\u001b[0m\u001b[0;34m)\u001b[0m \u001b[0;34m-\u001b[0m \u001b[0mset\u001b[0m\u001b[0;34m(\u001b[0m\u001b[0mparam_df\u001b[0m\u001b[0;34m.\u001b[0m\u001b[0mcolumns\u001b[0m\u001b[0;34m)\u001b[0m\u001b[0;34m\u001b[0m\u001b[0;34m\u001b[0m\u001b[0m\n",
      "\u001b[0;31mValueError\u001b[0m: Missing parameter keys."
     ]
    }
   ],
   "source": [
    "# Now let's see what happens when we try to save model output with less parameters. It throws an error and asks\n",
    "# the user to specify these parameters.\n",
    "scale = 5\n",
    "name = \"Testing\"\n",
    "param_matrix = scale * np.eye(3)\n",
    "table_params = dict(run_name=name, scale=scale)\n",
    "params = table_params.copy()\n",
    "params['param_matrix'] = param_matrix\n",
    "output = run_model(seed=0, scale=scale)\n",
    "run_id = mom.get_run_entry(table_params, path)\n",
    "run_dir = Path(f\"test_output/run_{run_id}/\")\n",
    "run_dir.mkdir(exist_ok=True)\n",
    "with open(run_dir/'out.pkl', 'wb') as fid:\n",
    "    pkl.dump(output, fid)\n",
    "print(pd.read_csv(path, index_col=0))\n"
   ]
  },
  {
   "cell_type": "code",
   "execution_count": null,
   "metadata": {},
   "outputs": [],
   "source": []
  },
  {
   "cell_type": "markdown",
   "metadata": {},
   "source": [
    "## Loading model using parameters"
   ]
  },
  {
   "cell_type": "code",
   "execution_count": 23,
   "metadata": {},
   "outputs": [
    {
     "name": "stdout",
     "output_type": "stream",
     "text": [
      "{'lam1': 158.73434901080273}\n"
     ]
    }
   ],
   "source": [
    "if mom.run_exists(table_params, path):\n",
    "    run_id = mom.get_run_entry(table_params, path)\n",
    "    run_dir = Path(f\"test_output/run_{run_id}/\")\n",
    "    with open(run_dir/'out.pkl', 'rb') as fid:\n",
    "        output = pkl.load(fid)\n",
    "print(output)"
   ]
  },
  {
   "cell_type": "markdown",
   "metadata": {},
   "source": [
    "# Memoizing a function"
   ]
  },
  {
   "cell_type": "code",
   "execution_count": 33,
   "metadata": {},
   "outputs": [],
   "source": [
    "shutil.rmtree(\"test_output\", ignore_errors=True)  # Clear away any output that was there before\n",
    "\n",
    "memory = mom.Memory(path)\n",
    "\n",
    "@memory.cache(verbose=1)\n",
    "def run_model(seed, scale):\n",
    "    np.random.seed(seed)\n",
    "    d = scale * np.random.randn(1000, 1000)\n",
    "    lams, ev = eig(d)\n",
    "    lams = np.sort(lams)[::-1]\n",
    "    return np.real(lams[0])"
   ]
  },
  {
   "cell_type": "code",
   "execution_count": 34,
   "metadata": {},
   "outputs": [
    {
     "name": "stdout",
     "output_type": "stream",
     "text": [
      "Calling run_model with arguments:\n",
      "seed     0.0\n",
      "scale    0.2\n",
      "CPU times: user 8.42 s, sys: 1.33 s, total: 9.75 s\n",
      "Wall time: 1.59 s\n"
     ]
    },
    {
     "data": {
      "text/plain": [
       "6.349373960432065"
      ]
     },
     "execution_count": 34,
     "metadata": {},
     "output_type": "execute_result"
    }
   ],
   "source": [
    "%time run_model(0, .2)"
   ]
  },
  {
   "cell_type": "code",
   "execution_count": 35,
   "metadata": {},
   "outputs": [
    {
     "name": "stdout",
     "output_type": "stream",
     "text": [
      "Calling run_model with arguments:\n",
      "seed     0.0\n",
      "scale    0.2\n",
      "CPU times: user 10.4 ms, sys: 7.9 ms, total: 18.3 ms\n",
      "Wall time: 5.72 ms\n"
     ]
    },
    {
     "data": {
      "text/plain": [
       "6.349373960432065"
      ]
     },
     "execution_count": 35,
     "metadata": {},
     "output_type": "execute_result"
    }
   ],
   "source": [
    "%time run_model(0, .2) # Faster this time"
   ]
  },
  {
   "cell_type": "code",
   "execution_count": null,
   "metadata": {},
   "outputs": [],
   "source": []
  }
 ],
 "metadata": {
  "kernelspec": {
   "display_name": "Python 3 (ipykernel)",
   "language": "python",
   "name": "python3"
  },
  "language_info": {
   "codemirror_mode": {
    "name": "ipython",
    "version": 3
   },
   "file_extension": ".py",
   "mimetype": "text/x-python",
   "name": "python",
   "nbconvert_exporter": "python",
   "pygments_lexer": "ipython3",
   "version": "3.9.7"
  }
 },
 "nbformat": 4,
 "nbformat_minor": 1
}
